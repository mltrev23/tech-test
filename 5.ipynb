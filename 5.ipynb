{
  "nbformat": 4,
  "nbformat_minor": 0,
  "metadata": {
    "colab": {
      "provenance": [],
      "include_colab_link": true
    },
    "kernelspec": {
      "name": "python3",
      "display_name": "Python 3"
    },
    "language_info": {
      "name": "python"
    }
  },
  "cells": [
    {
      "cell_type": "markdown",
      "metadata": {
        "id": "view-in-github",
        "colab_type": "text"
      },
      "source": [
        "<a href=\"https://colab.research.google.com/github/mltrev23/tech-test/blob/main/5.ipynb\" target=\"_parent\"><img src=\"https://colab.research.google.com/assets/colab-badge.svg\" alt=\"Open In Colab\"/></a>"
      ]
    },
    {
      "cell_type": "markdown",
      "source": [],
      "metadata": {
        "id": "uXSTumiG09jg"
      }
    },
    {
      "cell_type": "markdown",
      "source": [
        "Setup Environment"
      ],
      "metadata": {
        "id": "EAF1xO5e1M4I"
      }
    },
    {
      "cell_type": "code",
      "execution_count": null,
      "metadata": {
        "colab": {
          "base_uri": "https://localhost:8080/"
        },
        "id": "PdM_hn6jzm66",
        "outputId": "2cbbce7b-1635-497d-bc5b-4a6926da2026"
      },
      "outputs": [
        {
          "output_type": "stream",
          "name": "stdout",
          "text": [
            "Requirement already satisfied: scikit-learn in /usr/local/lib/python3.10/dist-packages (1.3.2)\n",
            "Requirement already satisfied: tensorflow in /usr/local/lib/python3.10/dist-packages (2.17.0)\n",
            "Requirement already satisfied: pandas in /usr/local/lib/python3.10/dist-packages (2.1.4)\n",
            "Requirement already satisfied: numpy in /usr/local/lib/python3.10/dist-packages (1.26.4)\n",
            "Requirement already satisfied: matplotlib in /usr/local/lib/python3.10/dist-packages (3.7.1)\n",
            "Requirement already satisfied: seaborn in /usr/local/lib/python3.10/dist-packages (0.13.1)\n",
            "Requirement already satisfied: kaggle in /usr/local/lib/python3.10/dist-packages (1.6.17)\n",
            "Requirement already satisfied: requests in /usr/local/lib/python3.10/dist-packages (2.32.3)\n",
            "Requirement already satisfied: scipy>=1.5.0 in /usr/local/lib/python3.10/dist-packages (from scikit-learn) (1.13.1)\n",
            "Requirement already satisfied: joblib>=1.1.1 in /usr/local/lib/python3.10/dist-packages (from scikit-learn) (1.4.2)\n",
            "Requirement already satisfied: threadpoolctl>=2.0.0 in /usr/local/lib/python3.10/dist-packages (from scikit-learn) (3.5.0)\n",
            "Requirement already satisfied: absl-py>=1.0.0 in /usr/local/lib/python3.10/dist-packages (from tensorflow) (1.4.0)\n",
            "Requirement already satisfied: astunparse>=1.6.0 in /usr/local/lib/python3.10/dist-packages (from tensorflow) (1.6.3)\n",
            "Requirement already satisfied: flatbuffers>=24.3.25 in /usr/local/lib/python3.10/dist-packages (from tensorflow) (24.3.25)\n",
            "Requirement already satisfied: gast!=0.5.0,!=0.5.1,!=0.5.2,>=0.2.1 in /usr/local/lib/python3.10/dist-packages (from tensorflow) (0.6.0)\n",
            "Requirement already satisfied: google-pasta>=0.1.1 in /usr/local/lib/python3.10/dist-packages (from tensorflow) (0.2.0)\n",
            "Requirement already satisfied: h5py>=3.10.0 in /usr/local/lib/python3.10/dist-packages (from tensorflow) (3.11.0)\n",
            "Requirement already satisfied: libclang>=13.0.0 in /usr/local/lib/python3.10/dist-packages (from tensorflow) (18.1.1)\n",
            "Requirement already satisfied: ml-dtypes<0.5.0,>=0.3.1 in /usr/local/lib/python3.10/dist-packages (from tensorflow) (0.4.0)\n",
            "Requirement already satisfied: opt-einsum>=2.3.2 in /usr/local/lib/python3.10/dist-packages (from tensorflow) (3.3.0)\n",
            "Requirement already satisfied: packaging in /usr/local/lib/python3.10/dist-packages (from tensorflow) (24.1)\n",
            "Requirement already satisfied: protobuf!=4.21.0,!=4.21.1,!=4.21.2,!=4.21.3,!=4.21.4,!=4.21.5,<5.0.0dev,>=3.20.3 in /usr/local/lib/python3.10/dist-packages (from tensorflow) (3.20.3)\n",
            "Requirement already satisfied: setuptools in /usr/local/lib/python3.10/dist-packages (from tensorflow) (71.0.4)\n",
            "Requirement already satisfied: six>=1.12.0 in /usr/local/lib/python3.10/dist-packages (from tensorflow) (1.16.0)\n",
            "Requirement already satisfied: termcolor>=1.1.0 in /usr/local/lib/python3.10/dist-packages (from tensorflow) (2.4.0)\n",
            "Requirement already satisfied: typing-extensions>=3.6.6 in /usr/local/lib/python3.10/dist-packages (from tensorflow) (4.12.2)\n",
            "Requirement already satisfied: wrapt>=1.11.0 in /usr/local/lib/python3.10/dist-packages (from tensorflow) (1.16.0)\n",
            "Requirement already satisfied: grpcio<2.0,>=1.24.3 in /usr/local/lib/python3.10/dist-packages (from tensorflow) (1.64.1)\n",
            "Requirement already satisfied: tensorboard<2.18,>=2.17 in /usr/local/lib/python3.10/dist-packages (from tensorflow) (2.17.0)\n",
            "Requirement already satisfied: keras>=3.2.0 in /usr/local/lib/python3.10/dist-packages (from tensorflow) (3.4.1)\n",
            "Requirement already satisfied: tensorflow-io-gcs-filesystem>=0.23.1 in /usr/local/lib/python3.10/dist-packages (from tensorflow) (0.37.1)\n",
            "Requirement already satisfied: python-dateutil>=2.8.2 in /usr/local/lib/python3.10/dist-packages (from pandas) (2.8.2)\n",
            "Requirement already satisfied: pytz>=2020.1 in /usr/local/lib/python3.10/dist-packages (from pandas) (2024.1)\n",
            "Requirement already satisfied: tzdata>=2022.1 in /usr/local/lib/python3.10/dist-packages (from pandas) (2024.1)\n",
            "Requirement already satisfied: contourpy>=1.0.1 in /usr/local/lib/python3.10/dist-packages (from matplotlib) (1.3.0)\n",
            "Requirement already satisfied: cycler>=0.10 in /usr/local/lib/python3.10/dist-packages (from matplotlib) (0.12.1)\n",
            "Requirement already satisfied: fonttools>=4.22.0 in /usr/local/lib/python3.10/dist-packages (from matplotlib) (4.53.1)\n",
            "Requirement already satisfied: kiwisolver>=1.0.1 in /usr/local/lib/python3.10/dist-packages (from matplotlib) (1.4.5)\n",
            "Requirement already satisfied: pillow>=6.2.0 in /usr/local/lib/python3.10/dist-packages (from matplotlib) (9.4.0)\n",
            "Requirement already satisfied: pyparsing>=2.3.1 in /usr/local/lib/python3.10/dist-packages (from matplotlib) (3.1.4)\n",
            "Requirement already satisfied: certifi>=2023.7.22 in /usr/local/lib/python3.10/dist-packages (from kaggle) (2024.7.4)\n",
            "Requirement already satisfied: tqdm in /usr/local/lib/python3.10/dist-packages (from kaggle) (4.66.5)\n",
            "Requirement already satisfied: python-slugify in /usr/local/lib/python3.10/dist-packages (from kaggle) (8.0.4)\n",
            "Requirement already satisfied: urllib3 in /usr/local/lib/python3.10/dist-packages (from kaggle) (2.0.7)\n",
            "Requirement already satisfied: bleach in /usr/local/lib/python3.10/dist-packages (from kaggle) (6.1.0)\n",
            "Requirement already satisfied: charset-normalizer<4,>=2 in /usr/local/lib/python3.10/dist-packages (from requests) (3.3.2)\n",
            "Requirement already satisfied: idna<4,>=2.5 in /usr/local/lib/python3.10/dist-packages (from requests) (3.8)\n",
            "Requirement already satisfied: wheel<1.0,>=0.23.0 in /usr/local/lib/python3.10/dist-packages (from astunparse>=1.6.0->tensorflow) (0.44.0)\n",
            "Requirement already satisfied: rich in /usr/local/lib/python3.10/dist-packages (from keras>=3.2.0->tensorflow) (13.8.0)\n",
            "Requirement already satisfied: namex in /usr/local/lib/python3.10/dist-packages (from keras>=3.2.0->tensorflow) (0.0.8)\n",
            "Requirement already satisfied: optree in /usr/local/lib/python3.10/dist-packages (from keras>=3.2.0->tensorflow) (0.12.1)\n",
            "Requirement already satisfied: markdown>=2.6.8 in /usr/local/lib/python3.10/dist-packages (from tensorboard<2.18,>=2.17->tensorflow) (3.7)\n",
            "Requirement already satisfied: tensorboard-data-server<0.8.0,>=0.7.0 in /usr/local/lib/python3.10/dist-packages (from tensorboard<2.18,>=2.17->tensorflow) (0.7.2)\n",
            "Requirement already satisfied: werkzeug>=1.0.1 in /usr/local/lib/python3.10/dist-packages (from tensorboard<2.18,>=2.17->tensorflow) (3.0.4)\n",
            "Requirement already satisfied: webencodings in /usr/local/lib/python3.10/dist-packages (from bleach->kaggle) (0.5.1)\n",
            "Requirement already satisfied: text-unidecode>=1.3 in /usr/local/lib/python3.10/dist-packages (from python-slugify->kaggle) (1.3)\n",
            "Requirement already satisfied: MarkupSafe>=2.1.1 in /usr/local/lib/python3.10/dist-packages (from werkzeug>=1.0.1->tensorboard<2.18,>=2.17->tensorflow) (2.1.5)\n",
            "Requirement already satisfied: markdown-it-py>=2.2.0 in /usr/local/lib/python3.10/dist-packages (from rich->keras>=3.2.0->tensorflow) (3.0.0)\n",
            "Requirement already satisfied: pygments<3.0.0,>=2.13.0 in /usr/local/lib/python3.10/dist-packages (from rich->keras>=3.2.0->tensorflow) (2.16.1)\n",
            "Requirement already satisfied: mdurl~=0.1 in /usr/local/lib/python3.10/dist-packages (from markdown-it-py>=2.2.0->rich->keras>=3.2.0->tensorflow) (0.1.2)\n"
          ]
        }
      ],
      "source": [
        "pip install scikit-learn tensorflow pandas numpy matplotlib seaborn kaggle requests"
      ]
    },
    {
      "cell_type": "markdown",
      "source": [
        "Download Dataset"
      ],
      "metadata": {
        "id": "ZZz8S_V21f-7"
      }
    },
    {
      "cell_type": "code",
      "source": [
        "import subprocess\n",
        "\n",
        "# Define the Kaggle dataset URL\n",
        "kaggle_url = \"sid321axn/gold-price-prediction-dataset\"\n",
        "\n",
        "# Download the dataset\n",
        "subprocess.run(['kaggle', 'datasets', 'download', '-d', kaggle_url])"
      ],
      "metadata": {
        "colab": {
          "base_uri": "https://localhost:8080/"
        },
        "id": "83fqTutN1gqp",
        "outputId": "3f99c35e-ab6b-4a52-ca8b-4efae3041f17"
      },
      "execution_count": null,
      "outputs": [
        {
          "output_type": "execute_result",
          "data": {
            "text/plain": [
              "CompletedProcess(args=['kaggle', 'datasets', 'download', '-d', 'sid321axn/gold-price-prediction-dataset'], returncode=0)"
            ]
          },
          "metadata": {},
          "execution_count": 4
        }
      ]
    },
    {
      "cell_type": "markdown",
      "source": [
        "Unzip the downloaded file"
      ],
      "metadata": {
        "id": "fYKBTZK42_JE"
      }
    },
    {
      "cell_type": "code",
      "source": [
        "!unzip gold-price-prediction-dataset.zip"
      ],
      "metadata": {
        "colab": {
          "base_uri": "https://localhost:8080/"
        },
        "id": "DvfndFF72-SU",
        "outputId": "58862ffe-db39-463f-f1a3-82f57ef9753b"
      },
      "execution_count": null,
      "outputs": [
        {
          "output_type": "stream",
          "name": "stdout",
          "text": [
            "Archive:  gold-price-prediction-dataset.zip\n",
            "  inflating: FINAL_USO.csv           \n"
          ]
        }
      ]
    },
    {
      "cell_type": "markdown",
      "source": [
        "Data Loading"
      ],
      "metadata": {
        "id": "mVjsp2C-3MBT"
      }
    },
    {
      "cell_type": "code",
      "source": [
        "import pandas as pd\n",
        "\n",
        "# Load the data\n",
        "data = pd.read_csv('FINAL_USO.csv')\n",
        "\n",
        "#Display basic information about the dataset\n",
        "data.info()\n",
        "data.describe()\n",
        "print(data.columns)\n",
        "data.head()"
      ],
      "metadata": {
        "colab": {
          "base_uri": "https://localhost:8080/",
          "height": 1000
        },
        "id": "4IP0-Grz3Ls-",
        "outputId": "27ea4e77-c4a8-4629-dbc1-6ec1f8b9b3eb"
      },
      "execution_count": null,
      "outputs": [
        {
          "output_type": "stream",
          "name": "stdout",
          "text": [
            "<class 'pandas.core.frame.DataFrame'>\n",
            "RangeIndex: 1718 entries, 0 to 1717\n",
            "Data columns (total 81 columns):\n",
            " #   Column         Non-Null Count  Dtype  \n",
            "---  ------         --------------  -----  \n",
            " 0   Date           1718 non-null   object \n",
            " 1   Open           1718 non-null   float64\n",
            " 2   High           1718 non-null   float64\n",
            " 3   Low            1718 non-null   float64\n",
            " 4   Close          1718 non-null   float64\n",
            " 5   Adj Close      1718 non-null   float64\n",
            " 6   Volume         1718 non-null   int64  \n",
            " 7   SP_open        1718 non-null   float64\n",
            " 8   SP_high        1718 non-null   float64\n",
            " 9   SP_low         1718 non-null   float64\n",
            " 10  SP_close       1718 non-null   float64\n",
            " 11  SP_Ajclose     1718 non-null   float64\n",
            " 12  SP_volume      1718 non-null   int64  \n",
            " 13  DJ_open        1718 non-null   float64\n",
            " 14  DJ_high        1718 non-null   float64\n",
            " 15  DJ_low         1718 non-null   float64\n",
            " 16  DJ_close       1718 non-null   float64\n",
            " 17  DJ_Ajclose     1718 non-null   float64\n",
            " 18  DJ_volume      1718 non-null   int64  \n",
            " 19  EG_open        1718 non-null   float64\n",
            " 20  EG_high        1718 non-null   float64\n",
            " 21  EG_low         1718 non-null   float64\n",
            " 22  EG_close       1718 non-null   float64\n",
            " 23  EG_Ajclose     1718 non-null   float64\n",
            " 24  EG_volume      1718 non-null   int64  \n",
            " 25  EU_Price       1718 non-null   float64\n",
            " 26  EU_open        1718 non-null   float64\n",
            " 27  EU_high        1718 non-null   float64\n",
            " 28  EU_low         1718 non-null   float64\n",
            " 29  EU_Trend       1718 non-null   int64  \n",
            " 30  OF_Price       1718 non-null   float64\n",
            " 31  OF_Open        1718 non-null   float64\n",
            " 32  OF_High        1718 non-null   float64\n",
            " 33  OF_Low         1718 non-null   float64\n",
            " 34  OF_Volume      1718 non-null   int64  \n",
            " 35  OF_Trend       1718 non-null   int64  \n",
            " 36  OS_Price       1718 non-null   float64\n",
            " 37  OS_Open        1718 non-null   float64\n",
            " 38  OS_High        1718 non-null   float64\n",
            " 39  OS_Low         1718 non-null   float64\n",
            " 40  OS_Trend       1718 non-null   int64  \n",
            " 41  SF_Price       1718 non-null   int64  \n",
            " 42  SF_Open        1718 non-null   int64  \n",
            " 43  SF_High        1718 non-null   int64  \n",
            " 44  SF_Low         1718 non-null   int64  \n",
            " 45  SF_Volume      1718 non-null   int64  \n",
            " 46  SF_Trend       1718 non-null   int64  \n",
            " 47  USB_Price      1718 non-null   float64\n",
            " 48  USB_Open       1718 non-null   float64\n",
            " 49  USB_High       1718 non-null   float64\n",
            " 50  USB_Low        1718 non-null   float64\n",
            " 51  USB_Trend      1718 non-null   int64  \n",
            " 52  PLT_Price      1718 non-null   float64\n",
            " 53  PLT_Open       1718 non-null   float64\n",
            " 54  PLT_High       1718 non-null   float64\n",
            " 55  PLT_Low        1718 non-null   float64\n",
            " 56  PLT_Trend      1718 non-null   int64  \n",
            " 57  PLD_Price      1718 non-null   float64\n",
            " 58  PLD_Open       1718 non-null   float64\n",
            " 59  PLD_High       1718 non-null   float64\n",
            " 60  PLD_Low        1718 non-null   float64\n",
            " 61  PLD_Trend      1718 non-null   int64  \n",
            " 62  RHO_PRICE      1718 non-null   int64  \n",
            " 63  USDI_Price     1718 non-null   float64\n",
            " 64  USDI_Open      1718 non-null   float64\n",
            " 65  USDI_High      1718 non-null   float64\n",
            " 66  USDI_Low       1718 non-null   float64\n",
            " 67  USDI_Volume    1718 non-null   int64  \n",
            " 68  USDI_Trend     1718 non-null   int64  \n",
            " 69  GDX_Open       1718 non-null   float64\n",
            " 70  GDX_High       1718 non-null   float64\n",
            " 71  GDX_Low        1718 non-null   float64\n",
            " 72  GDX_Close      1718 non-null   float64\n",
            " 73  GDX_Adj Close  1718 non-null   float64\n",
            " 74  GDX_Volume     1718 non-null   int64  \n",
            " 75  USO_Open       1718 non-null   float64\n",
            " 76  USO_High       1718 non-null   float64\n",
            " 77  USO_Low        1718 non-null   float64\n",
            " 78  USO_Close      1718 non-null   float64\n",
            " 79  USO_Adj Close  1718 non-null   float64\n",
            " 80  USO_Volume     1718 non-null   int64  \n",
            "dtypes: float64(58), int64(22), object(1)\n",
            "memory usage: 1.1+ MB\n",
            "Index(['Date', 'Open', 'High', 'Low', 'Close', 'Adj Close', 'Volume',\n",
            "       'SP_open', 'SP_high', 'SP_low', 'SP_close', 'SP_Ajclose', 'SP_volume',\n",
            "       'DJ_open', 'DJ_high', 'DJ_low', 'DJ_close', 'DJ_Ajclose', 'DJ_volume',\n",
            "       'EG_open', 'EG_high', 'EG_low', 'EG_close', 'EG_Ajclose', 'EG_volume',\n",
            "       'EU_Price', 'EU_open', 'EU_high', 'EU_low', 'EU_Trend', 'OF_Price',\n",
            "       'OF_Open', 'OF_High', 'OF_Low', 'OF_Volume', 'OF_Trend', 'OS_Price',\n",
            "       'OS_Open', 'OS_High', 'OS_Low', 'OS_Trend', 'SF_Price', 'SF_Open',\n",
            "       'SF_High', 'SF_Low', 'SF_Volume', 'SF_Trend', 'USB_Price', 'USB_Open',\n",
            "       'USB_High', 'USB_Low', 'USB_Trend', 'PLT_Price', 'PLT_Open', 'PLT_High',\n",
            "       'PLT_Low', 'PLT_Trend', 'PLD_Price', 'PLD_Open', 'PLD_High', 'PLD_Low',\n",
            "       'PLD_Trend', 'RHO_PRICE', 'USDI_Price', 'USDI_Open', 'USDI_High',\n",
            "       'USDI_Low', 'USDI_Volume', 'USDI_Trend', 'GDX_Open', 'GDX_High',\n",
            "       'GDX_Low', 'GDX_Close', 'GDX_Adj Close', 'GDX_Volume', 'USO_Open',\n",
            "       'USO_High', 'USO_Low', 'USO_Close', 'USO_Adj Close', 'USO_Volume'],\n",
            "      dtype='object')\n"
          ]
        },
        {
          "output_type": "execute_result",
          "data": {
            "text/plain": [
              "         Date        Open        High         Low       Close   Adj Close  \\\n",
              "0  2011-12-15  154.740005  154.949997  151.710007  152.330002  152.330002   \n",
              "1  2011-12-16  154.309998  155.369995  153.899994  155.229996  155.229996   \n",
              "2  2011-12-19  155.479996  155.860001  154.360001  154.869995  154.869995   \n",
              "3  2011-12-20  156.820007  157.429993  156.580002  156.979996  156.979996   \n",
              "4  2011-12-21  156.979996  157.529999  156.130005  157.160004  157.160004   \n",
              "\n",
              "     Volume     SP_open     SP_high      SP_low  ...    GDX_Low  GDX_Close  \\\n",
              "0  21521900  123.029999  123.199997  121.989998  ...  51.570000  51.680000   \n",
              "1  18124300  122.230003  122.949997  121.300003  ...  52.040001  52.680000   \n",
              "2  12547200  122.059998  122.320000  120.029999  ...  51.029999  51.169998   \n",
              "3   9136300  122.180000  124.139999  120.370003  ...  52.369999  52.990002   \n",
              "4  11996100  123.930000  124.360001  122.750000  ...  52.419998  52.959999   \n",
              "\n",
              "   GDX_Adj Close  GDX_Volume   USO_Open   USO_High    USO_Low  USO_Close  \\\n",
              "0      48.973877    20605600  36.900002  36.939999  36.049999  36.130001   \n",
              "1      49.921513    16285400  36.180000  36.500000  35.730000  36.270000   \n",
              "2      48.490578    15120200  36.389999  36.450001  35.930000  36.200001   \n",
              "3      50.215282    11644900  37.299999  37.610001  37.220001  37.560001   \n",
              "4      50.186852     8724300  37.669998  38.240002  37.520000  38.110001   \n",
              "\n",
              "   USO_Adj Close  USO_Volume  \n",
              "0      36.130001    12616700  \n",
              "1      36.270000    12578800  \n",
              "2      36.200001     7418200  \n",
              "3      37.560001    10041600  \n",
              "4      38.110001    10728000  \n",
              "\n",
              "[5 rows x 81 columns]"
            ],
            "text/html": [
              "\n",
              "  <div id=\"df-b5177b3e-4013-42fa-8555-0a804cebf045\" class=\"colab-df-container\">\n",
              "    <div>\n",
              "<style scoped>\n",
              "    .dataframe tbody tr th:only-of-type {\n",
              "        vertical-align: middle;\n",
              "    }\n",
              "\n",
              "    .dataframe tbody tr th {\n",
              "        vertical-align: top;\n",
              "    }\n",
              "\n",
              "    .dataframe thead th {\n",
              "        text-align: right;\n",
              "    }\n",
              "</style>\n",
              "<table border=\"1\" class=\"dataframe\">\n",
              "  <thead>\n",
              "    <tr style=\"text-align: right;\">\n",
              "      <th></th>\n",
              "      <th>Date</th>\n",
              "      <th>Open</th>\n",
              "      <th>High</th>\n",
              "      <th>Low</th>\n",
              "      <th>Close</th>\n",
              "      <th>Adj Close</th>\n",
              "      <th>Volume</th>\n",
              "      <th>SP_open</th>\n",
              "      <th>SP_high</th>\n",
              "      <th>SP_low</th>\n",
              "      <th>...</th>\n",
              "      <th>GDX_Low</th>\n",
              "      <th>GDX_Close</th>\n",
              "      <th>GDX_Adj Close</th>\n",
              "      <th>GDX_Volume</th>\n",
              "      <th>USO_Open</th>\n",
              "      <th>USO_High</th>\n",
              "      <th>USO_Low</th>\n",
              "      <th>USO_Close</th>\n",
              "      <th>USO_Adj Close</th>\n",
              "      <th>USO_Volume</th>\n",
              "    </tr>\n",
              "  </thead>\n",
              "  <tbody>\n",
              "    <tr>\n",
              "      <th>0</th>\n",
              "      <td>2011-12-15</td>\n",
              "      <td>154.740005</td>\n",
              "      <td>154.949997</td>\n",
              "      <td>151.710007</td>\n",
              "      <td>152.330002</td>\n",
              "      <td>152.330002</td>\n",
              "      <td>21521900</td>\n",
              "      <td>123.029999</td>\n",
              "      <td>123.199997</td>\n",
              "      <td>121.989998</td>\n",
              "      <td>...</td>\n",
              "      <td>51.570000</td>\n",
              "      <td>51.680000</td>\n",
              "      <td>48.973877</td>\n",
              "      <td>20605600</td>\n",
              "      <td>36.900002</td>\n",
              "      <td>36.939999</td>\n",
              "      <td>36.049999</td>\n",
              "      <td>36.130001</td>\n",
              "      <td>36.130001</td>\n",
              "      <td>12616700</td>\n",
              "    </tr>\n",
              "    <tr>\n",
              "      <th>1</th>\n",
              "      <td>2011-12-16</td>\n",
              "      <td>154.309998</td>\n",
              "      <td>155.369995</td>\n",
              "      <td>153.899994</td>\n",
              "      <td>155.229996</td>\n",
              "      <td>155.229996</td>\n",
              "      <td>18124300</td>\n",
              "      <td>122.230003</td>\n",
              "      <td>122.949997</td>\n",
              "      <td>121.300003</td>\n",
              "      <td>...</td>\n",
              "      <td>52.040001</td>\n",
              "      <td>52.680000</td>\n",
              "      <td>49.921513</td>\n",
              "      <td>16285400</td>\n",
              "      <td>36.180000</td>\n",
              "      <td>36.500000</td>\n",
              "      <td>35.730000</td>\n",
              "      <td>36.270000</td>\n",
              "      <td>36.270000</td>\n",
              "      <td>12578800</td>\n",
              "    </tr>\n",
              "    <tr>\n",
              "      <th>2</th>\n",
              "      <td>2011-12-19</td>\n",
              "      <td>155.479996</td>\n",
              "      <td>155.860001</td>\n",
              "      <td>154.360001</td>\n",
              "      <td>154.869995</td>\n",
              "      <td>154.869995</td>\n",
              "      <td>12547200</td>\n",
              "      <td>122.059998</td>\n",
              "      <td>122.320000</td>\n",
              "      <td>120.029999</td>\n",
              "      <td>...</td>\n",
              "      <td>51.029999</td>\n",
              "      <td>51.169998</td>\n",
              "      <td>48.490578</td>\n",
              "      <td>15120200</td>\n",
              "      <td>36.389999</td>\n",
              "      <td>36.450001</td>\n",
              "      <td>35.930000</td>\n",
              "      <td>36.200001</td>\n",
              "      <td>36.200001</td>\n",
              "      <td>7418200</td>\n",
              "    </tr>\n",
              "    <tr>\n",
              "      <th>3</th>\n",
              "      <td>2011-12-20</td>\n",
              "      <td>156.820007</td>\n",
              "      <td>157.429993</td>\n",
              "      <td>156.580002</td>\n",
              "      <td>156.979996</td>\n",
              "      <td>156.979996</td>\n",
              "      <td>9136300</td>\n",
              "      <td>122.180000</td>\n",
              "      <td>124.139999</td>\n",
              "      <td>120.370003</td>\n",
              "      <td>...</td>\n",
              "      <td>52.369999</td>\n",
              "      <td>52.990002</td>\n",
              "      <td>50.215282</td>\n",
              "      <td>11644900</td>\n",
              "      <td>37.299999</td>\n",
              "      <td>37.610001</td>\n",
              "      <td>37.220001</td>\n",
              "      <td>37.560001</td>\n",
              "      <td>37.560001</td>\n",
              "      <td>10041600</td>\n",
              "    </tr>\n",
              "    <tr>\n",
              "      <th>4</th>\n",
              "      <td>2011-12-21</td>\n",
              "      <td>156.979996</td>\n",
              "      <td>157.529999</td>\n",
              "      <td>156.130005</td>\n",
              "      <td>157.160004</td>\n",
              "      <td>157.160004</td>\n",
              "      <td>11996100</td>\n",
              "      <td>123.930000</td>\n",
              "      <td>124.360001</td>\n",
              "      <td>122.750000</td>\n",
              "      <td>...</td>\n",
              "      <td>52.419998</td>\n",
              "      <td>52.959999</td>\n",
              "      <td>50.186852</td>\n",
              "      <td>8724300</td>\n",
              "      <td>37.669998</td>\n",
              "      <td>38.240002</td>\n",
              "      <td>37.520000</td>\n",
              "      <td>38.110001</td>\n",
              "      <td>38.110001</td>\n",
              "      <td>10728000</td>\n",
              "    </tr>\n",
              "  </tbody>\n",
              "</table>\n",
              "<p>5 rows × 81 columns</p>\n",
              "</div>\n",
              "    <div class=\"colab-df-buttons\">\n",
              "\n",
              "  <div class=\"colab-df-container\">\n",
              "    <button class=\"colab-df-convert\" onclick=\"convertToInteractive('df-b5177b3e-4013-42fa-8555-0a804cebf045')\"\n",
              "            title=\"Convert this dataframe to an interactive table.\"\n",
              "            style=\"display:none;\">\n",
              "\n",
              "  <svg xmlns=\"http://www.w3.org/2000/svg\" height=\"24px\" viewBox=\"0 -960 960 960\">\n",
              "    <path d=\"M120-120v-720h720v720H120Zm60-500h600v-160H180v160Zm220 220h160v-160H400v160Zm0 220h160v-160H400v160ZM180-400h160v-160H180v160Zm440 0h160v-160H620v160ZM180-180h160v-160H180v160Zm440 0h160v-160H620v160Z\"/>\n",
              "  </svg>\n",
              "    </button>\n",
              "\n",
              "  <style>\n",
              "    .colab-df-container {\n",
              "      display:flex;\n",
              "      gap: 12px;\n",
              "    }\n",
              "\n",
              "    .colab-df-convert {\n",
              "      background-color: #E8F0FE;\n",
              "      border: none;\n",
              "      border-radius: 50%;\n",
              "      cursor: pointer;\n",
              "      display: none;\n",
              "      fill: #1967D2;\n",
              "      height: 32px;\n",
              "      padding: 0 0 0 0;\n",
              "      width: 32px;\n",
              "    }\n",
              "\n",
              "    .colab-df-convert:hover {\n",
              "      background-color: #E2EBFA;\n",
              "      box-shadow: 0px 1px 2px rgba(60, 64, 67, 0.3), 0px 1px 3px 1px rgba(60, 64, 67, 0.15);\n",
              "      fill: #174EA6;\n",
              "    }\n",
              "\n",
              "    .colab-df-buttons div {\n",
              "      margin-bottom: 4px;\n",
              "    }\n",
              "\n",
              "    [theme=dark] .colab-df-convert {\n",
              "      background-color: #3B4455;\n",
              "      fill: #D2E3FC;\n",
              "    }\n",
              "\n",
              "    [theme=dark] .colab-df-convert:hover {\n",
              "      background-color: #434B5C;\n",
              "      box-shadow: 0px 1px 3px 1px rgba(0, 0, 0, 0.15);\n",
              "      filter: drop-shadow(0px 1px 2px rgba(0, 0, 0, 0.3));\n",
              "      fill: #FFFFFF;\n",
              "    }\n",
              "  </style>\n",
              "\n",
              "    <script>\n",
              "      const buttonEl =\n",
              "        document.querySelector('#df-b5177b3e-4013-42fa-8555-0a804cebf045 button.colab-df-convert');\n",
              "      buttonEl.style.display =\n",
              "        google.colab.kernel.accessAllowed ? 'block' : 'none';\n",
              "\n",
              "      async function convertToInteractive(key) {\n",
              "        const element = document.querySelector('#df-b5177b3e-4013-42fa-8555-0a804cebf045');\n",
              "        const dataTable =\n",
              "          await google.colab.kernel.invokeFunction('convertToInteractive',\n",
              "                                                    [key], {});\n",
              "        if (!dataTable) return;\n",
              "\n",
              "        const docLinkHtml = 'Like what you see? Visit the ' +\n",
              "          '<a target=\"_blank\" href=https://colab.research.google.com/notebooks/data_table.ipynb>data table notebook</a>'\n",
              "          + ' to learn more about interactive tables.';\n",
              "        element.innerHTML = '';\n",
              "        dataTable['output_type'] = 'display_data';\n",
              "        await google.colab.output.renderOutput(dataTable, element);\n",
              "        const docLink = document.createElement('div');\n",
              "        docLink.innerHTML = docLinkHtml;\n",
              "        element.appendChild(docLink);\n",
              "      }\n",
              "    </script>\n",
              "  </div>\n",
              "\n",
              "\n",
              "<div id=\"df-b24aa176-c0c8-4f05-9fba-1d7e147ac224\">\n",
              "  <button class=\"colab-df-quickchart\" onclick=\"quickchart('df-b24aa176-c0c8-4f05-9fba-1d7e147ac224')\"\n",
              "            title=\"Suggest charts\"\n",
              "            style=\"display:none;\">\n",
              "\n",
              "<svg xmlns=\"http://www.w3.org/2000/svg\" height=\"24px\"viewBox=\"0 0 24 24\"\n",
              "     width=\"24px\">\n",
              "    <g>\n",
              "        <path d=\"M19 3H5c-1.1 0-2 .9-2 2v14c0 1.1.9 2 2 2h14c1.1 0 2-.9 2-2V5c0-1.1-.9-2-2-2zM9 17H7v-7h2v7zm4 0h-2V7h2v10zm4 0h-2v-4h2v4z\"/>\n",
              "    </g>\n",
              "</svg>\n",
              "  </button>\n",
              "\n",
              "<style>\n",
              "  .colab-df-quickchart {\n",
              "      --bg-color: #E8F0FE;\n",
              "      --fill-color: #1967D2;\n",
              "      --hover-bg-color: #E2EBFA;\n",
              "      --hover-fill-color: #174EA6;\n",
              "      --disabled-fill-color: #AAA;\n",
              "      --disabled-bg-color: #DDD;\n",
              "  }\n",
              "\n",
              "  [theme=dark] .colab-df-quickchart {\n",
              "      --bg-color: #3B4455;\n",
              "      --fill-color: #D2E3FC;\n",
              "      --hover-bg-color: #434B5C;\n",
              "      --hover-fill-color: #FFFFFF;\n",
              "      --disabled-bg-color: #3B4455;\n",
              "      --disabled-fill-color: #666;\n",
              "  }\n",
              "\n",
              "  .colab-df-quickchart {\n",
              "    background-color: var(--bg-color);\n",
              "    border: none;\n",
              "    border-radius: 50%;\n",
              "    cursor: pointer;\n",
              "    display: none;\n",
              "    fill: var(--fill-color);\n",
              "    height: 32px;\n",
              "    padding: 0;\n",
              "    width: 32px;\n",
              "  }\n",
              "\n",
              "  .colab-df-quickchart:hover {\n",
              "    background-color: var(--hover-bg-color);\n",
              "    box-shadow: 0 1px 2px rgba(60, 64, 67, 0.3), 0 1px 3px 1px rgba(60, 64, 67, 0.15);\n",
              "    fill: var(--button-hover-fill-color);\n",
              "  }\n",
              "\n",
              "  .colab-df-quickchart-complete:disabled,\n",
              "  .colab-df-quickchart-complete:disabled:hover {\n",
              "    background-color: var(--disabled-bg-color);\n",
              "    fill: var(--disabled-fill-color);\n",
              "    box-shadow: none;\n",
              "  }\n",
              "\n",
              "  .colab-df-spinner {\n",
              "    border: 2px solid var(--fill-color);\n",
              "    border-color: transparent;\n",
              "    border-bottom-color: var(--fill-color);\n",
              "    animation:\n",
              "      spin 1s steps(1) infinite;\n",
              "  }\n",
              "\n",
              "  @keyframes spin {\n",
              "    0% {\n",
              "      border-color: transparent;\n",
              "      border-bottom-color: var(--fill-color);\n",
              "      border-left-color: var(--fill-color);\n",
              "    }\n",
              "    20% {\n",
              "      border-color: transparent;\n",
              "      border-left-color: var(--fill-color);\n",
              "      border-top-color: var(--fill-color);\n",
              "    }\n",
              "    30% {\n",
              "      border-color: transparent;\n",
              "      border-left-color: var(--fill-color);\n",
              "      border-top-color: var(--fill-color);\n",
              "      border-right-color: var(--fill-color);\n",
              "    }\n",
              "    40% {\n",
              "      border-color: transparent;\n",
              "      border-right-color: var(--fill-color);\n",
              "      border-top-color: var(--fill-color);\n",
              "    }\n",
              "    60% {\n",
              "      border-color: transparent;\n",
              "      border-right-color: var(--fill-color);\n",
              "    }\n",
              "    80% {\n",
              "      border-color: transparent;\n",
              "      border-right-color: var(--fill-color);\n",
              "      border-bottom-color: var(--fill-color);\n",
              "    }\n",
              "    90% {\n",
              "      border-color: transparent;\n",
              "      border-bottom-color: var(--fill-color);\n",
              "    }\n",
              "  }\n",
              "</style>\n",
              "\n",
              "  <script>\n",
              "    async function quickchart(key) {\n",
              "      const quickchartButtonEl =\n",
              "        document.querySelector('#' + key + ' button');\n",
              "      quickchartButtonEl.disabled = true;  // To prevent multiple clicks.\n",
              "      quickchartButtonEl.classList.add('colab-df-spinner');\n",
              "      try {\n",
              "        const charts = await google.colab.kernel.invokeFunction(\n",
              "            'suggestCharts', [key], {});\n",
              "      } catch (error) {\n",
              "        console.error('Error during call to suggestCharts:', error);\n",
              "      }\n",
              "      quickchartButtonEl.classList.remove('colab-df-spinner');\n",
              "      quickchartButtonEl.classList.add('colab-df-quickchart-complete');\n",
              "    }\n",
              "    (() => {\n",
              "      let quickchartButtonEl =\n",
              "        document.querySelector('#df-b24aa176-c0c8-4f05-9fba-1d7e147ac224 button');\n",
              "      quickchartButtonEl.style.display =\n",
              "        google.colab.kernel.accessAllowed ? 'block' : 'none';\n",
              "    })();\n",
              "  </script>\n",
              "</div>\n",
              "\n",
              "    </div>\n",
              "  </div>\n"
            ],
            "application/vnd.google.colaboratory.intrinsic+json": {
              "type": "dataframe",
              "variable_name": "data"
            }
          },
          "metadata": {},
          "execution_count": 6
        }
      ]
    },
    {
      "cell_type": "markdown",
      "source": [
        "Data Preprocessing"
      ],
      "metadata": {
        "id": "pkAB2pWz4D_7"
      }
    },
    {
      "cell_type": "code",
      "source": [
        "from sklearn.preprocessing import MinMaxScaler\n",
        "import numpy as np\n",
        "\n",
        "# Select the Adj Close column\n",
        "data = data[['Date', 'Adj Close']]\n",
        "\n",
        "# Convert 'Date' to datetime using .loc to avoid the warning\n",
        "data.loc[:, 'Date'] = pd.to_datetime(data['Date'])\n",
        "\n",
        "# Sort by date\n",
        "data = data.sort_values('Date')\n",
        "\n",
        "# Drop the Date column\n",
        "data = data.drop('Date', axis=1)\n",
        "\n",
        "# Scale the data using MinMaxScaler\n",
        "scaler = MinMaxScaler(feature_range=(0, 1))\n",
        "scaled_data = scaler.fit_transform(data)\n",
        "\n",
        "# Define the function to create sequences\n",
        "def create_sequences(data, seq_length):\n",
        "    x = []\n",
        "    y = []\n",
        "    for i in range(len(data)-seq_length):\n",
        "        x.append(data[i:i+seq_length])\n",
        "        y.append(data[i+seq_length])\n",
        "    return np.array(x), np.array(y)\n",
        "\n",
        "# Define sequence length\n",
        "seq_length = 60\n",
        "\n",
        "# Create sequences\n",
        "X, y = create_sequences(scaled_data, seq_length)\n",
        "\n",
        "# Split into train and test sets\n",
        "train_size = int(len(X) * 0.8)\n",
        "X_train, X_test = X[:train_size], X[train_size:]\n",
        "y_train, y_test = y[:train_size], y[train_size:]"
      ],
      "metadata": {
        "id": "iPuU8ee24DmX"
      },
      "execution_count": null,
      "outputs": []
    },
    {
      "cell_type": "markdown",
      "source": [
        "Defining the LSTM Model"
      ],
      "metadata": {
        "id": "-vJQKMZb9tV7"
      }
    },
    {
      "cell_type": "code",
      "source": [
        "from tensorflow.keras.models import Sequential\n",
        "from tensorflow.keras.layers import Dense, LSTM\n",
        "\n",
        "# Define the LSTM model\n",
        "lstm_model = Sequential()\n",
        "lstm_model.add(LSTM(50, return_sequences=True, input_shape=(X_train.shape[1], 1)))\n",
        "lstm_model.add(LSTM(50, return_sequences=False))\n",
        "lstm_model.add(Dense(25))\n",
        "lstm_model.add(Dense(1))\n",
        "\n",
        "# Compile the model\n",
        "lstm_model.compile(optimizer='adam', loss='mean_squared_error')\n",
        "\n",
        "# Train the model\n",
        "lstm_model.fit(X_train, y_train, batch_size=32, epochs=10)"
      ],
      "metadata": {
        "colab": {
          "base_uri": "https://localhost:8080/"
        },
        "id": "Le1cIrbv9s-j",
        "outputId": "c14b1f7a-113d-4e8d-d2a5-993037500e3d"
      },
      "execution_count": null,
      "outputs": [
        {
          "output_type": "stream",
          "name": "stdout",
          "text": [
            "Epoch 1/10\n",
            "\u001b[1m42/42\u001b[0m \u001b[32m━━━━━━━━━━━━━━━━━━━━\u001b[0m\u001b[37m\u001b[0m \u001b[1m7s\u001b[0m 76ms/step - loss: 0.0481\n",
            "Epoch 2/10\n",
            "\u001b[1m42/42\u001b[0m \u001b[32m━━━━━━━━━━━━━━━━━━━━\u001b[0m\u001b[37m\u001b[0m \u001b[1m4s\u001b[0m 48ms/step - loss: 0.0019\n",
            "Epoch 3/10\n",
            "\u001b[1m42/42\u001b[0m \u001b[32m━━━━━━━━━━━━━━━━━━━━\u001b[0m\u001b[37m\u001b[0m \u001b[1m2s\u001b[0m 48ms/step - loss: 0.0018\n",
            "Epoch 4/10\n",
            "\u001b[1m42/42\u001b[0m \u001b[32m━━━━━━━━━━━━━━━━━━━━\u001b[0m\u001b[37m\u001b[0m \u001b[1m2s\u001b[0m 48ms/step - loss: 0.0016\n",
            "Epoch 5/10\n",
            "\u001b[1m42/42\u001b[0m \u001b[32m━━━━━━━━━━━━━━━━━━━━\u001b[0m\u001b[37m\u001b[0m \u001b[1m3s\u001b[0m 64ms/step - loss: 0.0015\n",
            "Epoch 6/10\n",
            "\u001b[1m42/42\u001b[0m \u001b[32m━━━━━━━━━━━━━━━━━━━━\u001b[0m\u001b[37m\u001b[0m \u001b[1m3s\u001b[0m 68ms/step - loss: 0.0015\n",
            "Epoch 7/10\n",
            "\u001b[1m42/42\u001b[0m \u001b[32m━━━━━━━━━━━━━━━━━━━━\u001b[0m\u001b[37m\u001b[0m \u001b[1m4s\u001b[0m 49ms/step - loss: 0.0014\n",
            "Epoch 8/10\n",
            "\u001b[1m42/42\u001b[0m \u001b[32m━━━━━━━━━━━━━━━━━━━━\u001b[0m\u001b[37m\u001b[0m \u001b[1m3s\u001b[0m 49ms/step - loss: 0.0012\n",
            "Epoch 9/10\n",
            "\u001b[1m42/42\u001b[0m \u001b[32m━━━━━━━━━━━━━━━━━━━━\u001b[0m\u001b[37m\u001b[0m \u001b[1m2s\u001b[0m 48ms/step - loss: 0.0010\n",
            "Epoch 10/10\n",
            "\u001b[1m42/42\u001b[0m \u001b[32m━━━━━━━━━━━━━━━━━━━━\u001b[0m\u001b[37m\u001b[0m \u001b[1m4s\u001b[0m 84ms/step - loss: 0.0011\n"
          ]
        },
        {
          "output_type": "execute_result",
          "data": {
            "text/plain": [
              "<keras.src.callbacks.history.History at 0x790783ba53c0>"
            ]
          },
          "metadata": {},
          "execution_count": 9
        }
      ]
    },
    {
      "cell_type": "markdown",
      "source": [
        "Defining the GRU Model"
      ],
      "metadata": {
        "id": "04AEyOY8-Qus"
      }
    },
    {
      "cell_type": "code",
      "source": [
        "from tensorflow.keras.layers import GRU\n",
        "\n",
        "# Define the GRU model\n",
        "gru_model = Sequential()\n",
        "gru_model.add(GRU(50, return_sequences=True, input_shape=(X_train.shape[1], 1)))\n",
        "gru_model.add(GRU(50, return_sequences=False))\n",
        "gru_model.add(Dense(25))\n",
        "gru_model.add(Dense(1))\n",
        "\n",
        "# Compile the model\n",
        "gru_model.compile(optimizer='adam', loss='mean_squared_error')\n",
        "\n",
        "# Train the model\n",
        "gru_model.fit(X_train, y_train, batch_size=32, epochs=10)\n"
      ],
      "metadata": {
        "colab": {
          "base_uri": "https://localhost:8080/"
        },
        "id": "u86kRjSu-QgA",
        "outputId": "b202c4ec-655f-484a-dc9a-8fb4f76377a1"
      },
      "execution_count": null,
      "outputs": [
        {
          "output_type": "stream",
          "name": "stdout",
          "text": [
            "Epoch 1/10\n",
            "\u001b[1m42/42\u001b[0m \u001b[32m━━━━━━━━━━━━━━━━━━━━\u001b[0m\u001b[37m\u001b[0m \u001b[1m7s\u001b[0m 67ms/step - loss: 0.0909\n",
            "Epoch 2/10\n",
            "\u001b[1m42/42\u001b[0m \u001b[32m━━━━━━━━━━━━━━━━━━━━\u001b[0m\u001b[37m\u001b[0m \u001b[1m3s\u001b[0m 68ms/step - loss: 8.5897e-04\n",
            "Epoch 3/10\n",
            "\u001b[1m42/42\u001b[0m \u001b[32m━━━━━━━━━━━━━━━━━━━━\u001b[0m\u001b[37m\u001b[0m \u001b[1m3s\u001b[0m 67ms/step - loss: 6.8521e-04\n",
            "Epoch 4/10\n",
            "\u001b[1m42/42\u001b[0m \u001b[32m━━━━━━━━━━━━━━━━━━━━\u001b[0m\u001b[37m\u001b[0m \u001b[1m6s\u001b[0m 78ms/step - loss: 5.7852e-04\n",
            "Epoch 5/10\n",
            "\u001b[1m42/42\u001b[0m \u001b[32m━━━━━━━━━━━━━━━━━━━━\u001b[0m\u001b[37m\u001b[0m \u001b[1m3s\u001b[0m 67ms/step - loss: 5.6712e-04\n",
            "Epoch 6/10\n",
            "\u001b[1m42/42\u001b[0m \u001b[32m━━━━━━━━━━━━━━━━━━━━\u001b[0m\u001b[37m\u001b[0m \u001b[1m5s\u001b[0m 66ms/step - loss: 6.7180e-04\n",
            "Epoch 7/10\n",
            "\u001b[1m42/42\u001b[0m \u001b[32m━━━━━━━━━━━━━━━━━━━━\u001b[0m\u001b[37m\u001b[0m \u001b[1m4s\u001b[0m 97ms/step - loss: 4.6123e-04\n",
            "Epoch 8/10\n",
            "\u001b[1m42/42\u001b[0m \u001b[32m━━━━━━━━━━━━━━━━━━━━\u001b[0m\u001b[37m\u001b[0m \u001b[1m5s\u001b[0m 87ms/step - loss: 4.6667e-04\n",
            "Epoch 9/10\n",
            "\u001b[1m42/42\u001b[0m \u001b[32m━━━━━━━━━━━━━━━━━━━━\u001b[0m\u001b[37m\u001b[0m \u001b[1m3s\u001b[0m 65ms/step - loss: 4.6144e-04\n",
            "Epoch 10/10\n",
            "\u001b[1m42/42\u001b[0m \u001b[32m━━━━━━━━━━━━━━━━━━━━\u001b[0m\u001b[37m\u001b[0m \u001b[1m7s\u001b[0m 100ms/step - loss: 5.2260e-04\n"
          ]
        },
        {
          "output_type": "execute_result",
          "data": {
            "text/plain": [
              "<keras.src.callbacks.history.History at 0x7907836074c0>"
            ]
          },
          "metadata": {},
          "execution_count": 10
        }
      ]
    },
    {
      "cell_type": "markdown",
      "source": [
        "Model Evaluation"
      ],
      "metadata": {
        "id": "eIaEJ7DZ-UsP"
      }
    },
    {
      "cell_type": "code",
      "source": [
        "import matplotlib.pyplot as plt\n",
        "\n",
        "# Predict using LSTM\n",
        "predictions_lstm = lstm_model.predict(X_test)\n",
        "predictions_lstm = scaler.inverse_transform(predictions_lstm)\n",
        "\n",
        "# Predict using GRU\n",
        "predictions_gru = gru_model.predict(X_test)\n",
        "predictions_gru = scaler.inverse_transform(predictions_gru)\n",
        "\n",
        "# Plot the results\n",
        "plt.figure(figsize=(14, 7))\n",
        "plt.plot(data.index[train_size + seq_length:], data['Adj Close'][train_size + seq_length:], color='blue', label='Actual Gold Price')\n",
        "plt.plot(data.index[train_size + seq_length:], predictions_lstm, color='red', label='LSTM Predicted Gold Price')\n",
        "plt.plot(data.index[train_size + seq_length:], predictions_gru, color='green', label='GRU Predicted Gold Price')\n",
        "plt.title('Gold Price Prediction')\n",
        "plt.xlabel('Date')\n",
        "plt.ylabel('Price')\n",
        "plt.legend()\n",
        "plt.show()"
      ],
      "metadata": {
        "colab": {
          "base_uri": "https://localhost:8080/",
          "height": 676
        },
        "id": "4dnBW90o-UXD",
        "outputId": "55acefbe-8d69-4e13-c7c9-f71d4daf0aa5"
      },
      "execution_count": null,
      "outputs": [
        {
          "output_type": "stream",
          "name": "stdout",
          "text": [
            "\u001b[1m11/11\u001b[0m \u001b[32m━━━━━━━━━━━━━━━━━━━━\u001b[0m\u001b[37m\u001b[0m \u001b[1m1s\u001b[0m 42ms/step\n",
            "\u001b[1m11/11\u001b[0m \u001b[32m━━━━━━━━━━━━━━━━━━━━\u001b[0m\u001b[37m\u001b[0m \u001b[1m1s\u001b[0m 99ms/step\n"
          ]
        },
        {
          "output_type": "display_data",
          "data": {
            "text/plain": [
              "<Figure size 1400x700 with 1 Axes>"
            ],
            "image/png": "[encoded data removed]"
          },
          "metadata": {}
        }
      ]
    },
    {
      "cell_type": "markdown",
      "source": [
        "Save the Models"
      ],
      "metadata": {
        "id": "J4NDQhEG-iQv"
      }
    },
    {
      "cell_type": "code",
      "source": [
        "import joblib\n",
        "\n",
        "# Save the LSTM model\n",
        "joblib.dump(lstm_model, 'lstm_gold_price_model.pkl')\n",
        "\n",
        "# Save the GRU model\n",
        "joblib.dump(gru_model, 'gru_gold_price_model.pkl')"
      ],
      "metadata": {
        "colab": {
          "base_uri": "https://localhost:8080/"
        },
        "id": "oW_5J2ZU-iGi",
        "outputId": "79a80a5e-4c35-4aa5-daf4-8ae202f4a1b1"
      },
      "execution_count": null,
      "outputs": [
        {
          "output_type": "execute_result",
          "data": {
            "text/plain": [
              "['gru_gold_price_model.pkl']"
            ]
          },
          "metadata": {},
          "execution_count": 12
        }
      ]
    },
    {
      "cell_type": "markdown",
      "source": [
        "Deploy the Models with FastAPI"
      ],
      "metadata": {
        "id": "AMMGvydf-rg0"
      }
    },
    {
      "cell_type": "code",
      "source": [
        "pip install fastapi uvicorn pyngrok"
      ],
      "metadata": {
        "colab": {
          "base_uri": "https://localhost:8080/"
        },
        "id": "QQsEWf_u_B3c",
        "outputId": "91f67c23-2670-4009-af30-2694d87d1306"
      },
      "execution_count": null,
      "outputs": [
        {
          "output_type": "stream",
          "name": "stdout",
          "text": [
            "Collecting fastapi\n",
            "  Downloading fastapi-0.112.2-py3-none-any.whl.metadata (27 kB)\n",
            "Collecting uvicorn\n",
            "  Downloading uvicorn-0.30.6-py3-none-any.whl.metadata (6.6 kB)\n",
            "Collecting pyngrok\n",
            "  Downloading pyngrok-7.2.0-py3-none-any.whl.metadata (7.4 kB)\n",
            "Collecting starlette<0.39.0,>=0.37.2 (from fastapi)\n",
            "  Downloading starlette-0.38.4-py3-none-any.whl.metadata (6.0 kB)\n",
            "Requirement already satisfied: pydantic!=1.8,!=1.8.1,!=2.0.0,!=2.0.1,!=2.1.0,<3.0.0,>=1.7.4 in /usr/local/lib/python3.10/dist-packages (from fastapi) (2.8.2)\n",
            "Requirement already satisfied: typing-extensions>=4.8.0 in /usr/local/lib/python3.10/dist-packages (from fastapi) (4.12.2)\n",
            "Requirement already satisfied: click>=7.0 in /usr/local/lib/python3.10/dist-packages (from uvicorn) (8.1.7)\n",
            "Collecting h11>=0.8 (from uvicorn)\n",
            "  Downloading h11-0.14.0-py3-none-any.whl.metadata (8.2 kB)\n",
            "Requirement already satisfied: PyYAML>=5.1 in /usr/local/lib/python3.10/dist-packages (from pyngrok) (6.0.2)\n",
            "Requirement already satisfied: annotated-types>=0.4.0 in /usr/local/lib/python3.10/dist-packages (from pydantic!=1.8,!=1.8.1,!=2.0.0,!=2.0.1,!=2.1.0,<3.0.0,>=1.7.4->fastapi) (0.7.0)\n",
            "Requirement already satisfied: pydantic-core==2.20.1 in /usr/local/lib/python3.10/dist-packages (from pydantic!=1.8,!=1.8.1,!=2.0.0,!=2.0.1,!=2.1.0,<3.0.0,>=1.7.4->fastapi) (2.20.1)\n",
            "Requirement already satisfied: anyio<5,>=3.4.0 in /usr/local/lib/python3.10/dist-packages (from starlette<0.39.0,>=0.37.2->fastapi) (3.7.1)\n",
            "Requirement already satisfied: idna>=2.8 in /usr/local/lib/python3.10/dist-packages (from anyio<5,>=3.4.0->starlette<0.39.0,>=0.37.2->fastapi) (3.8)\n",
            "Requirement already satisfied: sniffio>=1.1 in /usr/local/lib/python3.10/dist-packages (from anyio<5,>=3.4.0->starlette<0.39.0,>=0.37.2->fastapi) (1.3.1)\n",
            "Requirement already satisfied: exceptiongroup in /usr/local/lib/python3.10/dist-packages (from anyio<5,>=3.4.0->starlette<0.39.0,>=0.37.2->fastapi) (1.2.2)\n",
            "Downloading fastapi-0.112.2-py3-none-any.whl (93 kB)\n",
            "\u001b[2K   \u001b[90m━━━━━━━━━━━━━━━━━━━━━━━━━━━━━━━━━━━━━━━━\u001b[0m \u001b[32m93.5/93.5 kB\u001b[0m \u001b[31m4.8 MB/s\u001b[0m eta \u001b[36m0:00:00\u001b[0m\n",
            "\u001b[?25hDownloading uvicorn-0.30.6-py3-none-any.whl (62 kB)\n",
            "\u001b[2K   \u001b[90m━━━━━━━━━━━━━━━━━━━━━━━━━━━━━━━━━━━━━━━━\u001b[0m \u001b[32m62.8/62.8 kB\u001b[0m \u001b[31m4.2 MB/s\u001b[0m eta \u001b[36m0:00:00\u001b[0m\n",
            "\u001b[?25hDownloading pyngrok-7.2.0-py3-none-any.whl (22 kB)\n",
            "Downloading h11-0.14.0-py3-none-any.whl (58 kB)\n",
            "\u001b[2K   \u001b[90m━━━━━━━━━━━━━━━━━━━━━━━━━━━━━━━━━━━━━━━━\u001b[0m \u001b[32m58.3/58.3 kB\u001b[0m \u001b[31m4.4 MB/s\u001b[0m eta \u001b[36m0:00:00\u001b[0m\n",
            "\u001b[?25hDownloading starlette-0.38.4-py3-none-any.whl (71 kB)\n",
            "\u001b[2K   \u001b[90m━━━━━━━━━━━━━━━━━━━━━━━━━━━━━━━━━━━━━━━━\u001b[0m \u001b[32m71.4/71.4 kB\u001b[0m \u001b[31m4.4 MB/s\u001b[0m eta \u001b[36m0:00:00\u001b[0m\n",
            "\u001b[?25hInstalling collected packages: pyngrok, h11, uvicorn, starlette, fastapi\n",
            "Successfully installed fastapi-0.112.2 h11-0.14.0 pyngrok-7.2.0 starlette-0.38.4 uvicorn-0.30.6\n"
          ]
        }
      ]
    },
    {
      "cell_type": "markdown",
      "source": [
        "Create fastapi app"
      ],
      "metadata": {
        "id": "fHP6ibKD_Cku"
      }
    },
    {
      "cell_type": "code",
      "source": [
        "from fastapi import FastAPI\n",
        "import joblib\n",
        "import pandas as pd\n",
        "import tensorflow as tf\n",
        "from pydantic import BaseModel\n",
        "\n",
        "# Initialize FastAPI app\n",
        "app = FastAPI()\n",
        "\n",
        "# Load the trained models\n",
        "lstm_model = joblib.load('lstm_gold_price_model.pkl')\n",
        "gru_model = joblib.load('gru_gold_price_model.pkl')\n",
        "\n",
        "# Define the input data model\n",
        "class GoldData(BaseModel):\n",
        "    sequence: list\n",
        "\n",
        "@tf.function(reduce_retracing=True)\n",
        "def predict_with_lstm(input_data):\n",
        "    return lstm_model(input_data)\n",
        "\n",
        "@tf.function(reduce_retracing=True)\n",
        "def predict_with_gru(input_data):\n",
        "    return gru_model(input_data)\n",
        "\n",
        "# Define the prediction route for LSTM\n",
        "@app.post('/predict_lstm')\n",
        "def predict_gold_price_lstm(data: GoldData):\n",
        "    # Convert input data to a NumPy array and reshape\n",
        "    input_data = pd.DataFrame([data.sequence]).values.reshape((1, len(data.sequence), 1))\n",
        "\n",
        "    # Make the prediction\n",
        "    prediction = predict_with_lstm(tf.convert_to_tensor(input_data, dtype=tf.float32))\n",
        "\n",
        "    # Convert numpy.float32 to a Python float\n",
        "    prediction_value = float(prediction[0][0])\n",
        "\n",
        "    print(f'LSTM Prediction: {prediction_value}')\n",
        "\n",
        "    # Return the prediction as a JSON response\n",
        "    return {'prediction': prediction_value}\n",
        "\n",
        "# Define the prediction route for GRU\n",
        "@app.post('/predict_gru')\n",
        "def predict_gold_price_gru(data: GoldData):\n",
        "    # Convert input data to a NumPy array and reshape\n",
        "    input_data = pd.DataFrame([data.sequence]).values.reshape((1, len(data.sequence), 1))\n",
        "\n",
        "    # Make the prediction\n",
        "    prediction = predict_with_gru(tf.convert_to_tensor(input_data, dtype=tf.float32))\n",
        "\n",
        "    # Convert numpy.float32 to a Python float\n",
        "    prediction_value = float(prediction[0][0])\n",
        "\n",
        "    print(f'LSTM Prediction: {prediction_value}')\n",
        "\n",
        "    # Return the prediction as a JSON response\n",
        "    return {'prediction': prediction_value}\n"
      ],
      "metadata": {
        "id": "QMhLYfw1-rXM"
      },
      "execution_count": null,
      "outputs": []
    },
    {
      "cell_type": "code",
      "source": [
        "!ngrok authtoken 2lammpPuDThaunJy6qYTw0YVylF_6XJrWtbYB8dm1XMVY2qh1"
      ],
      "metadata": {
        "colab": {
          "base_uri": "https://localhost:8080/"
        },
        "id": "0qLozc_q_cxG",
        "outputId": "24802ab7-b1bb-4754-98bf-9087ef5b551c"
      },
      "execution_count": null,
      "outputs": [
        {
          "output_type": "stream",
          "name": "stdout",
          "text": [
            "Authtoken saved to configuration file: /root/.config/ngrok/ngrok.yml\n"
          ]
        }
      ]
    },
    {
      "cell_type": "markdown",
      "source": [
        "Run the FastAPI App"
      ],
      "metadata": {
        "id": "eiMh8YwO_Q08"
      }
    },
    {
      "cell_type": "code",
      "source": [
        "import uvicorn\n",
        "import nest_asyncio\n",
        "from pyngrok import ngrok\n",
        "\n",
        "# Apply the nest_asyncio patch\n",
        "nest_asyncio.apply()\n",
        "\n",
        "public_url = ngrok.connect(9003, \"http\")\n",
        "print('Public URL:', public_url)\n",
        "\n",
        "uvicorn.run(app, host='0.0.0.0', port=9003)\n"
      ],
      "metadata": {
        "colab": {
          "base_uri": "https://localhost:8080/"
        },
        "id": "jr9xnI_K_Qqk",
        "outputId": "7f50f1f3-f94c-43bb-fa3a-baa8e7fddefe"
      },
      "execution_count": null,
      "outputs": [
        {
          "metadata": {
            "tags": null
          },
          "name": "stdout",
          "output_type": "stream",
          "text": [
            "Public URL: NgrokTunnel: \"https://2a2a-35-190-183-150.ngrok-free.app\" -> \"http://localhost:9003\"\n"
          ]
        },
        {
          "metadata": {
            "tags": null
          },
          "name": "stderr",
          "output_type": "stream",
          "text": [
            "INFO:     Started server process [453]\n",
            "INFO:     Waiting for application startup.\n",
            "INFO:     Application startup complete.\n",
            "INFO:     Uvicorn running on http://0.0.0.0:9003 (Press CTRL+C to quit)\n"
          ]
        },
        {
          "metadata": {
            "tags": null
          },
          "name": "stdout",
          "output_type": "stream",
          "text": [
            "LSTM Prediction: 0.8717371225357056\n",
            "INFO:     104.223.86.8:0 - \"POST /predict_lstm HTTP/1.1\" 200 OK\n",
            "LSTM Prediction: 0.9110864996910095\n",
            "INFO:     104.223.86.8:0 - \"POST /predict_gru HTTP/1.1\" 200 OK\n"
          ]
        }
      ]
    }
  ]
}